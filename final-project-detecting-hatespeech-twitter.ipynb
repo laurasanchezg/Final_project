{
 "cells": [
  {
   "cell_type": "markdown",
   "metadata": {},
   "source": [
    "# Detecting Hate Speech on Twitter"
   ]
  },
  {
   "cell_type": "code",
   "execution_count": 2,
   "metadata": {},
   "outputs": [],
   "source": [
    "import spacy\n",
    "import pandas as pd\n",
    "import csv\n",
    "import unicodedata\n",
    "import seaborn as sns\n",
    "from sklearn.model_selection import train_test_split\n",
    "from spacy.lang.es.stop_words import STOP_WORDS\n",
    "from sklearn.model_selection import train_test_split\n",
    "from sklearn.feature_extraction.text import TfidfVectorizer\n",
    "from sklearn.feature_extraction.text import CountVectorizer\n",
    "from sklearn.svm import LinearSVC\n",
    "from sklearn.linear_model import LogisticRegression\n",
    "from sklearn.pipeline import Pipeline\n",
    "from sklearn.metrics import accuracy_score, classification_report, confusion_matrix\n",
    "from wordcloud import WordCloud, STOPWORDS, ImageColorGenerator\n",
    "import matplotlib.pyplot as plt\n",
    "from imblearn.over_sampling import SMOTE\n",
    "from sklearn.naive_bayes import BernoulliNB\n",
    "from sklearn.metrics import plot_confusion_matrix\n",
    "import re\n",
    "import string"
   ]
  },
  {
   "cell_type": "code",
   "execution_count": 3,
   "metadata": {},
   "outputs": [],
   "source": [
    "nlp = spacy.load('es_core_news_sm')"
   ]
  },
  {
   "cell_type": "code",
   "execution_count": 5,
   "metadata": {},
   "outputs": [],
   "source": [
    "df = pd.read_csv('data/train_es.csv',sep='\\t')"
   ]
  },
  {
   "cell_type": "markdown",
   "metadata": {},
   "source": [
    "## Exploring the dataset"
   ]
  },
  {
   "cell_type": "code",
   "execution_count": 6,
   "metadata": {},
   "outputs": [
    {
     "data": {
      "text/html": [
       "<div>\n",
       "<style scoped>\n",
       "    .dataframe tbody tr th:only-of-type {\n",
       "        vertical-align: middle;\n",
       "    }\n",
       "\n",
       "    .dataframe tbody tr th {\n",
       "        vertical-align: top;\n",
       "    }\n",
       "\n",
       "    .dataframe thead th {\n",
       "        text-align: right;\n",
       "    }\n",
       "</style>\n",
       "<table border=\"1\" class=\"dataframe\">\n",
       "  <thead>\n",
       "    <tr style=\"text-align: right;\">\n",
       "      <th></th>\n",
       "      <th>id</th>\n",
       "      <th>text</th>\n",
       "      <th>HS</th>\n",
       "      <th>TR</th>\n",
       "      <th>AG</th>\n",
       "    </tr>\n",
       "  </thead>\n",
       "  <tbody>\n",
       "    <tr>\n",
       "      <th>0</th>\n",
       "      <td>20001</td>\n",
       "      <td>Easyjet quiere duplicar el número de mujeres p...</td>\n",
       "      <td>1</td>\n",
       "      <td>0</td>\n",
       "      <td>0</td>\n",
       "    </tr>\n",
       "    <tr>\n",
       "      <th>1</th>\n",
       "      <td>20002</td>\n",
       "      <td>El gobierno debe crear un control estricto de ...</td>\n",
       "      <td>1</td>\n",
       "      <td>0</td>\n",
       "      <td>0</td>\n",
       "    </tr>\n",
       "    <tr>\n",
       "      <th>2</th>\n",
       "      <td>20003</td>\n",
       "      <td>Yo veo a mujeres destruidas por acoso laboral ...</td>\n",
       "      <td>0</td>\n",
       "      <td>0</td>\n",
       "      <td>0</td>\n",
       "    </tr>\n",
       "    <tr>\n",
       "      <th>3</th>\n",
       "      <td>20004</td>\n",
       "      <td>— Yo soy respetuoso con los demás, sólamente l...</td>\n",
       "      <td>0</td>\n",
       "      <td>0</td>\n",
       "      <td>0</td>\n",
       "    </tr>\n",
       "    <tr>\n",
       "      <th>4</th>\n",
       "      <td>20007</td>\n",
       "      <td>Antonio Caballero y como ser de mal gusto e ig...</td>\n",
       "      <td>0</td>\n",
       "      <td>0</td>\n",
       "      <td>0</td>\n",
       "    </tr>\n",
       "  </tbody>\n",
       "</table>\n",
       "</div>"
      ],
      "text/plain": [
       "      id                                               text  HS  TR  AG\n",
       "0  20001  Easyjet quiere duplicar el número de mujeres p...   1   0   0\n",
       "1  20002  El gobierno debe crear un control estricto de ...   1   0   0\n",
       "2  20003  Yo veo a mujeres destruidas por acoso laboral ...   0   0   0\n",
       "3  20004  — Yo soy respetuoso con los demás, sólamente l...   0   0   0\n",
       "4  20007  Antonio Caballero y como ser de mal gusto e ig...   0   0   0"
      ]
     },
     "execution_count": 6,
     "metadata": {},
     "output_type": "execute_result"
    }
   ],
   "source": [
    "df.head()"
   ]
  },
  {
   "cell_type": "code",
   "execution_count": 7,
   "metadata": {},
   "outputs": [
    {
     "data": {
      "text/plain": [
       "(4450, 5)"
      ]
     },
     "execution_count": 7,
     "metadata": {},
     "output_type": "execute_result"
    }
   ],
   "source": [
    "df.shape"
   ]
  },
  {
   "cell_type": "code",
   "execution_count": 8,
   "metadata": {},
   "outputs": [
    {
     "data": {
      "text/html": [
       "<div>\n",
       "<style scoped>\n",
       "    .dataframe tbody tr th:only-of-type {\n",
       "        vertical-align: middle;\n",
       "    }\n",
       "\n",
       "    .dataframe tbody tr th {\n",
       "        vertical-align: top;\n",
       "    }\n",
       "\n",
       "    .dataframe thead th {\n",
       "        text-align: right;\n",
       "    }\n",
       "</style>\n",
       "<table border=\"1\" class=\"dataframe\">\n",
       "  <thead>\n",
       "    <tr style=\"text-align: right;\">\n",
       "      <th></th>\n",
       "      <th>id</th>\n",
       "      <th>text</th>\n",
       "      <th>HS</th>\n",
       "    </tr>\n",
       "  </thead>\n",
       "  <tbody>\n",
       "    <tr>\n",
       "      <th>0</th>\n",
       "      <td>20001</td>\n",
       "      <td>Easyjet quiere duplicar el número de mujeres p...</td>\n",
       "      <td>1</td>\n",
       "    </tr>\n",
       "    <tr>\n",
       "      <th>1</th>\n",
       "      <td>20002</td>\n",
       "      <td>El gobierno debe crear un control estricto de ...</td>\n",
       "      <td>1</td>\n",
       "    </tr>\n",
       "    <tr>\n",
       "      <th>2</th>\n",
       "      <td>20003</td>\n",
       "      <td>Yo veo a mujeres destruidas por acoso laboral ...</td>\n",
       "      <td>0</td>\n",
       "    </tr>\n",
       "    <tr>\n",
       "      <th>3</th>\n",
       "      <td>20004</td>\n",
       "      <td>— Yo soy respetuoso con los demás, sólamente l...</td>\n",
       "      <td>0</td>\n",
       "    </tr>\n",
       "    <tr>\n",
       "      <th>4</th>\n",
       "      <td>20007</td>\n",
       "      <td>Antonio Caballero y como ser de mal gusto e ig...</td>\n",
       "      <td>0</td>\n",
       "    </tr>\n",
       "    <tr>\n",
       "      <th>...</th>\n",
       "      <td>...</td>\n",
       "      <td>...</td>\n",
       "      <td>...</td>\n",
       "    </tr>\n",
       "    <tr>\n",
       "      <th>4445</th>\n",
       "      <td>24996</td>\n",
       "      <td>@miriaan_ac @Linaveso_2105 @HumildesSquad_ CÁL...</td>\n",
       "      <td>1</td>\n",
       "    </tr>\n",
       "    <tr>\n",
       "      <th>4446</th>\n",
       "      <td>24997</td>\n",
       "      <td>@IvanDuque presidente en Cúcuta , tenemos prob...</td>\n",
       "      <td>1</td>\n",
       "    </tr>\n",
       "    <tr>\n",
       "      <th>4447</th>\n",
       "      <td>24998</td>\n",
       "      <td>- Callaté Visto Que Te Dejo En Puta🎤🎶</td>\n",
       "      <td>0</td>\n",
       "    </tr>\n",
       "    <tr>\n",
       "      <th>4448</th>\n",
       "      <td>24999</td>\n",
       "      <td>-¿porque los hombres se casan con las mujeres?...</td>\n",
       "      <td>1</td>\n",
       "    </tr>\n",
       "    <tr>\n",
       "      <th>4449</th>\n",
       "      <td>25000</td>\n",
       "      <td>— No hay nada más lento que un caracol. — Cáll...</td>\n",
       "      <td>0</td>\n",
       "    </tr>\n",
       "  </tbody>\n",
       "</table>\n",
       "<p>4450 rows × 3 columns</p>\n",
       "</div>"
      ],
      "text/plain": [
       "         id                                               text  HS\n",
       "0     20001  Easyjet quiere duplicar el número de mujeres p...   1\n",
       "1     20002  El gobierno debe crear un control estricto de ...   1\n",
       "2     20003  Yo veo a mujeres destruidas por acoso laboral ...   0\n",
       "3     20004  — Yo soy respetuoso con los demás, sólamente l...   0\n",
       "4     20007  Antonio Caballero y como ser de mal gusto e ig...   0\n",
       "...     ...                                                ...  ..\n",
       "4445  24996  @miriaan_ac @Linaveso_2105 @HumildesSquad_ CÁL...   1\n",
       "4446  24997  @IvanDuque presidente en Cúcuta , tenemos prob...   1\n",
       "4447  24998              - Callaté Visto Que Te Dejo En Puta🎤🎶   0\n",
       "4448  24999  -¿porque los hombres se casan con las mujeres?...   1\n",
       "4449  25000  — No hay nada más lento que un caracol. — Cáll...   0\n",
       "\n",
       "[4450 rows x 3 columns]"
      ]
     },
     "execution_count": 8,
     "metadata": {},
     "output_type": "execute_result"
    }
   ],
   "source": [
    "df.drop(['TR', 'AG'], axis=1)"
   ]
  },
  {
   "cell_type": "code",
   "execution_count": 9,
   "metadata": {},
   "outputs": [
    {
     "data": {
      "text/plain": [
       "<AxesSubplot:xlabel='HS', ylabel='count'>"
      ]
     },
     "execution_count": 9,
     "metadata": {},
     "output_type": "execute_result"
    },
    {
     "data": {
      "image/png": "[encoded data removed]",
      "text/plain": [
       "<Figure size 432x288 with 1 Axes>"
      ]
     },
     "metadata": {
      "needs_background": "light"
     },
     "output_type": "display_data"
    }
   ],
   "source": [
    "sns.countplot(x='HS', data=df)"
   ]
  },
  {
   "cell_type": "markdown",
   "metadata": {},
   "source": [
    "## Cleaning and tokenizing "
   ]
  },
  {
   "cell_type": "code",
   "execution_count": 10,
   "metadata": {},
   "outputs": [],
   "source": [
    "with open('data/spanish.txt') as f:\n",
    "    stopwords = f.read().splitlines()"
   ]
  },
  {
   "cell_type": "code",
   "execution_count": 11,
   "metadata": {},
   "outputs": [],
   "source": [
    "sw = \" \".join(sw for sw in stopwords)"
   ]
  },
  {
   "cell_type": "code",
   "execution_count": 12,
   "metadata": {},
   "outputs": [],
   "source": [
    "negative = df[df.HS==1]"
   ]
  },
  {
   "cell_type": "code",
   "execution_count": 13,
   "metadata": {},
   "outputs": [
    {
     "name": "stdout",
     "output_type": "stream",
     "text": [
      "There are 234193 words in the combination of all tweets.\n"
     ]
    }
   ],
   "source": [
    "text = \" \".join(tw for tw in negative.text)\n",
    "print (\"There are {} words in the combination of all tweets.\".format(len(text)))"
   ]
  },
  {
   "cell_type": "code",
   "execution_count": 14,
   "metadata": {},
   "outputs": [],
   "source": [
    "def normalize(text):\n",
    "\n",
    "    try:\n",
    "        text = unicode(text, 'utf-8')\n",
    "    except NameError: # unicode is a default on python 3 \n",
    "        pass\n",
    "\n",
    "    text = unicodedata.normalize('NFD', text)\\\n",
    "           .encode('ascii', 'ignore')\\\n",
    "           .decode(\"utf-8\")\\\n",
    "    \n",
    "    text = re.sub('[%s]' % re.escape(string.punctuation), '', text)\n",
    "    text = re.sub('\\w*\\d\\w*', '', text) #removing numbers and words with numbers\n",
    "\n",
    "    return str.lower(text)"
   ]
  },
  {
   "cell_type": "code",
   "execution_count": 15,
   "metadata": {},
   "outputs": [],
   "source": [
    "stopwords_normalized = normalize(sw)"
   ]
  },
  {
   "cell_type": "code",
   "execution_count": 16,
   "metadata": {},
   "outputs": [],
   "source": [
    "text_normalized = normalize(text)"
   ]
  },
  {
   "cell_type": "markdown",
   "metadata": {},
   "source": [
    "### Tokenizing"
   ]
  },
  {
   "cell_type": "code",
   "execution_count": 17,
   "metadata": {},
   "outputs": [],
   "source": [
    "def text_data_cleaning(sentence):\n",
    "    doc = nlp(sentence)\n",
    "    \n",
    "    tokens = []\n",
    "    for token in doc:\n",
    "        temp = token.lower_\n",
    "        tokens.append(temp)\n",
    "    \n",
    "    cleaned_tokens = []\n",
    "    for token in tokens:\n",
    "        if token not in stopwords_normalized and token.strip() != \"\":\n",
    "            \n",
    "            cleaned_tokens.append(token)\n",
    "    return cleaned_tokens"
   ]
  },
  {
   "cell_type": "code",
   "execution_count": 18,
   "metadata": {},
   "outputs": [],
   "source": [
    "tweets = [tweet for tweet in df.text]"
   ]
  },
  {
   "cell_type": "code",
   "execution_count": 19,
   "metadata": {},
   "outputs": [],
   "source": [
    "data_cleaned = [text_data_cleaning(normalize(row)) for row in tweets]"
   ]
  },
  {
   "cell_type": "markdown",
   "metadata": {},
   "source": [
    "## Visualization: Wordcloud"
   ]
  },
  {
   "cell_type": "code",
   "execution_count": 20,
   "metadata": {},
   "outputs": [],
   "source": [
    "wordcloud = WordCloud(stopwords=stopwords, background_color=\"white\").generate(text_normalized)"
   ]
  },
  {
   "cell_type": "code",
   "execution_count": 21,
   "metadata": {},
   "outputs": [
    {
     "data": {
      "image/png": "[encoded data removed]",
      "text/plain": [
       "<Figure size 432x288 with 1 Axes>"
      ]
     },
     "metadata": {
      "needs_background": "light"
     },
     "output_type": "display_data"
    }
   ],
   "source": [
    "plt.imshow(wordcloud, interpolation='bilinear')\n",
    "plt.axis(\"off\")\n",
    "plt.show()"
   ]
  },
  {
   "cell_type": "markdown",
   "metadata": {},
   "source": [
    "### Visualization: LDA and Topic Modelling"
   ]
  },
  {
   "cell_type": "code",
   "execution_count": 176,
   "metadata": {},
   "outputs": [],
   "source": [
    "import gensim\n",
    "import gensim.corpora as corpora\n",
    "from gensim.utils import simple_preprocess\n",
    "from gensim.models import CoherenceModel\n",
    "import pyLDAvis\n",
    "import pyLDAvis.gensim  # don't skip this"
   ]
  },
  {
   "cell_type": "code",
   "execution_count": 68,
   "metadata": {},
   "outputs": [],
   "source": [
    "# Create Dictionary\n",
    "id2word = corpora.Dictionary(data_cleaned)"
   ]
  },
  {
   "cell_type": "code",
   "execution_count": 69,
   "metadata": {},
   "outputs": [],
   "source": [
    "# Term Document Frequency\n",
    "texts = data_cleaned"
   ]
  },
  {
   "cell_type": "code",
   "execution_count": 70,
   "metadata": {},
   "outputs": [],
   "source": [
    "# Create Corpus\n",
    "corpus = [id2word.doc2bow(text) for text in texts]"
   ]
  },
  {
   "cell_type": "code",
   "execution_count": 71,
   "metadata": {},
   "outputs": [
    {
     "name": "stdout",
     "output_type": "stream",
     "text": [
      "[[(0, 1), (1, 1), (2, 1), (3, 1), (4, 1), (5, 1), (6, 1), (7, 1), (8, 1)]]\n"
     ]
    }
   ],
   "source": [
    "print(corpus[:1])"
   ]
  },
  {
   "cell_type": "code",
   "execution_count": 72,
   "metadata": {},
   "outputs": [
    {
     "data": {
      "text/plain": [
       "[[('aparcar', 1),\n",
       "  ('avion', 1),\n",
       "  ('duplicar', 1),\n",
       "  ('easyjet', 1),\n",
       "  ('mujeres', 1),\n",
       "  ('numero', 1),\n",
       "  ('piloto', 1),\n",
       "  ('quiere', 1),\n",
       "  ('veras', 1)],\n",
       " [('colombia', 1),\n",
       "  ('control', 1),\n",
       "  ('crear', 1),\n",
       "  ('debe', 1),\n",
       "  ('despues', 1),\n",
       "  ('estricto', 1),\n",
       "  ('fronterizas', 1),\n",
       "  ('gobierno', 1),\n",
       "  ('inmigracion', 1),\n",
       "  ('masa', 1),\n",
       "  ('venir', 1),\n",
       "  ('zonas', 1)]]"
      ]
     },
     "execution_count": 72,
     "metadata": {},
     "output_type": "execute_result"
    }
   ],
   "source": [
    "# Human readable format of corpus (term-frequency)\n",
    "[[(id2word[id], freq) for id, freq in cp] for cp in corpus[:2]]"
   ]
  },
  {
   "cell_type": "code",
   "execution_count": 75,
   "metadata": {},
   "outputs": [],
   "source": [
    "# Build LDA model\n",
    "lda_model = gensim.models.ldamodel.LdaModel(corpus=corpus,\n",
    "                                           id2word=id2word,\n",
    "                                           num_topics=2, \n",
    "                                           random_state=100,\n",
    "                                           update_every=1,\n",
    "                                           chunksize=100,\n",
    "                                           passes=10,\n",
    "                                           alpha='auto',\n",
    "                                           per_word_topics=True)"
   ]
  },
  {
   "cell_type": "code",
   "execution_count": 76,
   "metadata": {},
   "outputs": [
    {
     "name": "stdout",
     "output_type": "stream",
     "text": [
      "[(0, '0.008*\"arabe\" + 0.008*\"acoso\" + 0.006*\"arabes\" + 0.006*\"inmigrantes\" + 0.006*\"pais\" + 0.005*\"mujeres\" + 0.005*\"violacion\" + 0.005*\"inmigracion\" + 0.004*\"indocumentados\" + 0.004*\"espana\"'), (1, '0.041*\"puta\" + 0.023*\"callate\" + 0.014*\"perra\" + 0.011*\"zorra\" + 0.008*\"hijo\" + 0.008*\"mereces\" + 0.007*\"mierda\" + 0.006*\"madre\" + 0.005*\"mujer\" + 0.005*\"polla\"')]\n"
     ]
    }
   ],
   "source": [
    "# Print the Keyword in the 2 topics\n",
    "print(lda_model.print_topics())\n",
    "doc_lda = lda_model[corpus]"
   ]
  },
  {
   "cell_type": "code",
   "execution_count": 177,
   "metadata": {},
   "outputs": [
    {
     "name": "stderr",
     "output_type": "stream",
     "text": [
      "/Users/laurasg/opt/anaconda3/lib/python3.8/site-packages/ipykernel/ipkernel.py:287: DeprecationWarning: `should_run_async` will not call `transform_cell` automatically in the future. Please pass the result to `transformed_cell` argument and any exception that happen during thetransform in `preprocessing_exc_tuple` in IPython 7.17 and above.\n",
      "  and should_run_async(code)\n"
     ]
    },
    {
     "data": {
      "text/html": [
       "\n",
       "<link rel=\"stylesheet\" type=\"text/css\" href=\"https://cdn.rawgit.com/bmabey/pyLDAvis/files/ldavis.v1.0.0.css\">\n",
       "\n",
       "\n",
       "<div id=\"ldavis_el55851402606754095042744041949\"></div>\n",
       "<script type=\"text/javascript\">\n",
       "\n",
       "var ldavis_el55851402606754095042744041949_data = {\"mdsDat\": {\"x\": [0.14779332280158997, -0.14779332280158997], \"y\": [0.0, 0.0], \"topics\": [1, 2], \"cluster\": [1, 1], \"Freq\": [57.68204128640889, 42.3179587135911]}, \"tinfo\": {\"Term\": [\"puta\", \"callate\", \"perra\", \"zorra\", \"arabe\", \"acoso\", \"hijo\", \"mereces\", \"arabes\", \"inmigrantes\", \"mierda\", \"pais\", \"madre\", \"mujeres\", \"violacion\", \"inmigracion\", \"indocumentados\", \"polla\", \"espana\", \"mujer\", \"vida\", \"refugiados\", \"escoria\", \"inmigrante\", \"valla\", \"guarra\", \"mejor\", \"boca\", \"subsaharianos\", \"ensenar\", \"puta\", \"callate\", \"perra\", \"zorra\", \"hijo\", \"mereces\", \"madre\", \"mierda\", \"polla\", \"guarra\", \"boca\", \"ensenar\", \"hija\", \"escoria\", \"mejor\", \"merecia\", \"cara\", \"culo\", \"novia\", \"vida\", \"quiero\", \"voy\", \"siempre\", \"maldita\", \"nunca\", \"imbecil\", \"cono\", \"idea\", \"asi\", \"guero\", \"mujer\", \"hijos\", \"decir\", \"mal\", \"vez\", \"solo\", \"ver\", \"acoso\", \"inmigrantes\", \"arabe\", \"arabes\", \"violacion\", \"inmigracion\", \"indocumentados\", \"pais\", \"espana\", \"mujeres\", \"refugiados\", \"valla\", \"subsaharianos\", \"inmigrante\", \"ceuta\", \"papeles\", \"ilegal\", \"paises\", \"via\", \"sexual\", \"indocumentado\", \"venezolanos\", \"cultura\", \"gobierno\", \"ilegales\", \"policia\", \"ninos\", \"guerra\", \"sudacas\", \"internacional\", \"gueros\", \"hombres\", \"dinero\", \"mientras\", \"aqui\", \"solo\", \"dia\", \"hace\"], \"Freq\": [1122.0, 640.0, 391.0, 290.0, 168.0, 161.0, 219.0, 206.0, 118.0, 117.0, 186.0, 111.0, 169.0, 105.0, 98.0, 91.0, 88.0, 129.0, 75.0, 132.0, 101.0, 60.0, 96.0, 58.0, 57.0, 91.0, 91.0, 86.0, 53.0, 82.0, 1122.6104704148427, 639.6706545309346, 391.2084006842987, 290.1246346975077, 219.23763405570742, 206.28765741998927, 168.9538061959675, 186.24683482142106, 129.19768593586562, 90.83733530089995, 85.88610049949511, 81.85197009676443, 75.64460181677508, 95.53976167911041, 91.34608256476743, 61.14408611447797, 80.65296512458745, 64.85704447071474, 57.44990755354127, 101.19306554093485, 57.10993025624705, 71.5188507048153, 63.88884451918929, 46.15478026049943, 58.605695450190396, 75.57794658940372, 41.04780234476778, 42.76268212087869, 66.54360500281166, 46.39753663851238, 130.31870798306565, 69.96046498028822, 59.35469172529745, 49.11273166163561, 98.22459147238808, 77.46524919637193, 61.213178705997045, 161.28747259370607, 117.23184437704309, 167.45983821395257, 118.44037388554057, 98.06829544019229, 90.96182333097478, 87.81424573527237, 111.02700254930697, 75.49455796472972, 104.58005517016446, 60.14386799020531, 57.22166761764081, 53.28487989573923, 57.818438939885404, 43.65997500684383, 43.53044835008921, 41.215351365205564, 37.95008953659808, 36.667309687989686, 34.987735106742804, 34.26286344766713, 32.02258172829782, 31.433726364908704, 44.06717417139587, 27.343902218740418, 28.522371626329036, 29.02623372933213, 36.45946849638297, 28.058257394582853, 23.712076169785334, 32.6262582131182, 46.359305304548414, 28.576373359211285, 45.05265152163895, 53.3610140986624, 51.823361851410645, 37.50141270854144, 37.17727858791579], \"Total\": [1122.0, 640.0, 391.0, 290.0, 168.0, 161.0, 219.0, 206.0, 118.0, 117.0, 186.0, 111.0, 169.0, 105.0, 98.0, 91.0, 88.0, 129.0, 75.0, 132.0, 101.0, 60.0, 96.0, 58.0, 57.0, 91.0, 91.0, 86.0, 53.0, 82.0, 1122.9918014817636, 640.0437333391408, 391.58914639979434, 290.50574162531416, 219.6235140706373, 206.66080031483892, 169.33201386882712, 186.70438201420262, 129.58367599598805, 91.21255687174495, 86.25949864666741, 82.24261455423347, 76.01963094531452, 96.07215550593982, 91.8751787927495, 61.5173967580318, 81.1620379422314, 65.29027313494534, 57.83846151710234, 101.8919999457055, 57.515389999141114, 72.03595364818668, 64.3832512707926, 46.533153347660736, 59.091876351007215, 76.24070811443612, 41.422186448718236, 43.15656957406175, 67.17403315660698, 46.843652699983714, 132.45734923426713, 70.75774105070306, 60.00132989705759, 49.72302672465065, 110.96949882753138, 129.28861104778258, 89.3582011724585, 161.80623127711513, 117.63941467835998, 168.0706199228171, 118.90113688512969, 98.49955501782865, 91.3805109739959, 88.22505669080991, 111.58502112146579, 75.91879003446073, 105.28644361134504, 60.56128713394312, 57.63767882859841, 53.69158326823262, 58.28371874951566, 44.07446105051035, 43.96313447981211, 41.647764643785294, 38.362668481034426, 37.07863286089284, 35.40062429008829, 34.69751472212124, 32.44657564989185, 31.87301163419703, 44.685457844882094, 27.74723547192993, 28.955350593740214, 29.475810329229084, 37.04061607526715, 28.535985242135784, 24.122899977367428, 33.23652961875141, 47.84045715208015, 29.10584264321627, 49.40863450775272, 63.40445705727057, 129.28861104778258, 68.56829478070576, 84.21520560977281], \"Category\": [\"Default\", \"Default\", \"Default\", \"Default\", \"Default\", \"Default\", \"Default\", \"Default\", \"Default\", \"Default\", \"Default\", \"Default\", \"Default\", \"Default\", \"Default\", \"Default\", \"Default\", \"Default\", \"Default\", \"Default\", \"Default\", \"Default\", \"Default\", \"Default\", \"Default\", \"Default\", \"Default\", \"Default\", \"Default\", \"Default\", \"Topic1\", \"Topic1\", \"Topic1\", \"Topic1\", \"Topic1\", \"Topic1\", \"Topic1\", \"Topic1\", \"Topic1\", \"Topic1\", \"Topic1\", \"Topic1\", \"Topic1\", \"Topic1\", \"Topic1\", \"Topic1\", \"Topic1\", \"Topic1\", \"Topic1\", \"Topic1\", \"Topic1\", \"Topic1\", \"Topic1\", \"Topic1\", \"Topic1\", \"Topic1\", \"Topic1\", \"Topic1\", \"Topic1\", \"Topic1\", \"Topic1\", \"Topic1\", \"Topic1\", \"Topic1\", \"Topic1\", \"Topic1\", \"Topic1\", \"Topic2\", \"Topic2\", \"Topic2\", \"Topic2\", \"Topic2\", \"Topic2\", \"Topic2\", \"Topic2\", \"Topic2\", \"Topic2\", \"Topic2\", \"Topic2\", \"Topic2\", \"Topic2\", \"Topic2\", \"Topic2\", \"Topic2\", \"Topic2\", \"Topic2\", \"Topic2\", \"Topic2\", \"Topic2\", \"Topic2\", \"Topic2\", \"Topic2\", \"Topic2\", \"Topic2\", \"Topic2\", \"Topic2\", \"Topic2\", \"Topic2\", \"Topic2\", \"Topic2\", \"Topic2\", \"Topic2\", \"Topic2\", \"Topic2\", \"Topic2\"], \"logprob\": [30.0, 29.0, 28.0, 27.0, 26.0, 25.0, 24.0, 23.0, 22.0, 21.0, 20.0, 19.0, 18.0, 17.0, 16.0, 15.0, 14.0, 13.0, 12.0, 11.0, 10.0, 9.0, 8.0, 7.0, 6.0, 5.0, 4.0, 3.0, 2.0, 1.0, -3.1923999786376953, -3.7548999786376953, -4.246600151062012, -4.545499801635742, -4.825699806213379, -4.886600017547607, -5.08620023727417, -4.988800048828125, -5.354499816894531, -5.7067999839782715, -5.762800216674805, -5.8109002113342285, -5.889800071716309, -5.656300067901611, -5.701200008392334, -6.10260009765625, -5.825699806213379, -6.043700218200684, -6.164899826049805, -5.598800182342529, -6.170899868011475, -5.945899963378906, -6.058700084686279, -6.383800029754639, -6.144999980926514, -5.890699863433838, -6.501100063323975, -6.46019983291626, -6.01800012588501, -6.378600120544434, -5.345900058746338, -5.967899799346924, -6.132299900054932, -6.321700096130371, -5.628600120544434, -5.866000175476074, -6.101500034332275, -4.82289981842041, -5.141900062561035, -4.785399913787842, -5.131700038909912, -5.320400238037109, -5.395699977874756, -5.4309000968933105, -5.196300029754639, -5.581999778747559, -5.256100177764893, -5.8094000816345215, -5.8592000007629395, -5.9303998947143555, -5.848800182342529, -6.129700183868408, -6.132599830627441, -6.187300205230713, -6.269800186157227, -6.304200172424316, -6.351099967956543, -6.372000217437744, -6.439700126647949, -6.458199977874756, -6.1203999519348145, -6.597599983215332, -6.5553998947143555, -6.537899971008301, -6.309899806976318, -6.571800231933594, -6.740099906921387, -6.421000003814697, -6.069699764251709, -6.553500175476074, -6.098299980163574, -5.928999900817871, -5.9583001136779785, -6.281700134277344, -6.29040002822876], \"loglift\": [30.0, 29.0, 28.0, 27.0, 26.0, 25.0, 24.0, 23.0, 22.0, 21.0, 20.0, 19.0, 18.0, 17.0, 16.0, 15.0, 14.0, 13.0, 12.0, 11.0, 10.0, 9.0, 8.0, 7.0, 6.0, 5.0, 4.0, 3.0, 2.0, 1.0, 0.5499, 0.5496, 0.5493, 0.5489, 0.5485, 0.5484, 0.548, 0.5478, 0.5472, 0.5461, 0.5459, 0.5455, 0.5453, 0.5447, 0.5444, 0.5441, 0.5439, 0.5436, 0.5435, 0.5433, 0.5431, 0.543, 0.5425, 0.5421, 0.542, 0.5415, 0.5411, 0.5411, 0.5408, 0.5407, 0.5339, 0.5389, 0.5394, 0.5379, 0.4282, 0.038, 0.1719, 0.8567, 0.8565, 0.8563, 0.8561, 0.8556, 0.8554, 0.8553, 0.8549, 0.8544, 0.8532, 0.853, 0.8527, 0.8524, 0.8519, 0.8505, 0.8501, 0.8495, 0.8491, 0.8488, 0.8482, 0.8474, 0.8468, 0.8461, 0.846, 0.8453, 0.8449, 0.8446, 0.8441, 0.8431, 0.8428, 0.8414, 0.8285, 0.8416, 0.7677, 0.6875, -0.0542, 0.2565, 0.0423]}, \"token.table\": {\"Topic\": [1, 2, 1, 2, 1, 2, 2, 1, 2, 1, 1, 1, 2, 2, 1, 1, 2, 1, 2, 1, 2, 1, 2, 1, 1, 2, 2, 1, 2, 1, 1, 1, 2, 1, 2, 1, 2, 1, 1, 1, 2, 1, 2, 1, 2, 2, 1, 2, 2, 2, 2, 2, 2, 2, 1, 1, 2, 1, 1, 2, 1, 1, 1, 2, 1, 1, 2, 1, 2, 2, 1, 1, 1, 2, 2, 2, 1, 2, 1, 1, 1, 2, 2, 1, 1, 2, 2, 2, 2, 2, 1, 2, 1, 2, 2, 1, 2, 2, 1, 2, 1], \"Freq\": [0.0061802317012585525, 0.9950173039026269, 0.15771761898327466, 0.8359033806113557, 0.0059498798806075035, 0.993629940061453, 0.9924211247365929, 0.9974092197769152, 0.014886704772789779, 0.9969916513457798, 0.9999316713267191, 0.9980035254616607, 0.012321031178539022, 0.998310562426957, 0.9898077217811543, 0.9955541136373348, 0.9726096911011584, 0.9833115382813091, 0.01666629725900524, 0.4521039949898682, 0.5541919938585481, 0.03435736296173068, 0.9963635258901896, 0.9970500140888215, 0.9992489446545689, 0.010408843173485094, 0.9878977255295602, 0.02237864504983542, 0.9846603821927584, 0.9976696534004212, 0.9819900317042525, 0.030087377095947443, 0.9928834441662656, 0.02699739113323556, 0.9719060807964802, 0.5580939886056142, 0.4393505867746324, 0.9997417647906152, 0.9971609867309711, 0.9892910508525126, 0.014132729297893037, 0.02090281028923067, 0.9615292733046109, 0.9963720570099286, 0.984446592768528, 0.9730699127599267, 0.9968427875292709, 0.013116352467490407, 0.9798972713836319, 0.997449061533634, 0.9958359723540594, 0.9951321096937039, 0.9945646220689875, 0.9949052569349981, 0.9980392728980102, 0.9854589156719173, 0.020111406442284027, 0.9885425055190776, 0.9904742629701575, 0.01088433256011162, 0.9968024883585459, 0.9915894237191653, 0.08095750954971967, 0.9107719824343463, 0.9962272871873514, 0.9814479962910854, 0.015099199942939774, 0.009497898928863107, 0.9972793875306263, 0.9838575997092349, 0.9855033917723691, 0.9984451948951245, 0.008961776320420738, 0.994757171566702, 0.9905463176730336, 1.0008385553174062, 0.9984954986490028, 1.001542008828912, 0.9954957598516798, 1.0000073006038206, 0.9910390940729288, 0.9907319153785202, 0.9886831292350836, 0.994047345183289, 0.5955667662911336, 0.4022009330797266, 0.9871193355431966, 0.9812172161715181, 0.9889364242010036, 0.9862365861127987, 0.682645791876136, 0.3133456093857674, 0.8831255528360225, 0.11714930802926829, 0.9978792944931966, 0.9912456331588267, 0.009814313199592344, 0.9949283525419153, 0.9995008930073687, 0.013881956847324566, 0.9982590993813594], \"Term\": [\"acoso\", \"acoso\", \"aqui\", \"aqui\", \"arabe\", \"arabe\", \"arabes\", \"asi\", \"asi\", \"boca\", \"callate\", \"cara\", \"cara\", \"ceuta\", \"cono\", \"culo\", \"cultura\", \"decir\", \"decir\", \"dia\", \"dia\", \"dinero\", \"dinero\", \"ensenar\", \"escoria\", \"escoria\", \"espana\", \"gobierno\", \"gobierno\", \"guarra\", \"guero\", \"gueros\", \"gueros\", \"guerra\", \"guerra\", \"hace\", \"hace\", \"hija\", \"hijo\", \"hijos\", \"hijos\", \"hombres\", \"hombres\", \"idea\", \"ilegal\", \"ilegales\", \"imbecil\", \"imbecil\", \"indocumentado\", \"indocumentados\", \"inmigracion\", \"inmigrante\", \"inmigrantes\", \"internacional\", \"madre\", \"mal\", \"mal\", \"maldita\", \"mejor\", \"mejor\", \"mereces\", \"merecia\", \"mientras\", \"mientras\", \"mierda\", \"mujer\", \"mujer\", \"mujeres\", \"mujeres\", \"ninos\", \"novia\", \"nunca\", \"pais\", \"pais\", \"paises\", \"papeles\", \"perra\", \"policia\", \"polla\", \"puta\", \"quiero\", \"refugiados\", \"sexual\", \"siempre\", \"solo\", \"solo\", \"subsaharianos\", \"sudacas\", \"valla\", \"venezolanos\", \"ver\", \"ver\", \"vez\", \"vez\", \"via\", \"vida\", \"vida\", \"violacion\", \"voy\", \"voy\", \"zorra\"]}, \"R\": 30, \"lambda.step\": 0.01, \"plot.opts\": {\"xlab\": \"PC1\", \"ylab\": \"PC2\"}, \"topic.order\": [2, 1]};\n",
       "\n",
       "function LDAvis_load_lib(url, callback){\n",
       "  var s = document.createElement('script');\n",
       "  s.src = url;\n",
       "  s.async = true;\n",
       "  s.onreadystatechange = s.onload = callback;\n",
       "  s.onerror = function(){console.warn(\"failed to load library \" + url);};\n",
       "  document.getElementsByTagName(\"head\")[0].appendChild(s);\n",
       "}\n",
       "\n",
       "if(typeof(LDAvis) !== \"undefined\"){\n",
       "   // already loaded: just create the visualization\n",
       "   !function(LDAvis){\n",
       "       new LDAvis(\"#\" + \"ldavis_el55851402606754095042744041949\", ldavis_el55851402606754095042744041949_data);\n",
       "   }(LDAvis);\n",
       "}else if(typeof define === \"function\" && define.amd){\n",
       "   // require.js is available: use it to load d3/LDAvis\n",
       "   require.config({paths: {d3: \"https://cdnjs.cloudflare.com/ajax/libs/d3/3.5.5/d3.min\"}});\n",
       "   require([\"d3\"], function(d3){\n",
       "      window.d3 = d3;\n",
       "      LDAvis_load_lib(\"https://cdn.rawgit.com/bmabey/pyLDAvis/files/ldavis.v1.0.0.js\", function(){\n",
       "        new LDAvis(\"#\" + \"ldavis_el55851402606754095042744041949\", ldavis_el55851402606754095042744041949_data);\n",
       "      });\n",
       "    });\n",
       "}else{\n",
       "    // require.js not available: dynamically load d3 & LDAvis\n",
       "    LDAvis_load_lib(\"https://cdnjs.cloudflare.com/ajax/libs/d3/3.5.5/d3.min.js\", function(){\n",
       "         LDAvis_load_lib(\"https://cdn.rawgit.com/bmabey/pyLDAvis/files/ldavis.v1.0.0.js\", function(){\n",
       "                 new LDAvis(\"#\" + \"ldavis_el55851402606754095042744041949\", ldavis_el55851402606754095042744041949_data);\n",
       "            })\n",
       "         });\n",
       "}\n",
       "</script>"
      ],
      "text/plain": [
       "PreparedData(topic_coordinates=              x    y  topics  cluster       Freq\n",
       "topic                                           \n",
       "1      0.147793  0.0       1        1  57.682041\n",
       "0     -0.147793  0.0       2        1  42.317959, topic_info=          Term         Freq        Total Category  logprob  loglift\n",
       "63        puta  1122.000000  1122.000000  Default  30.0000  30.0000\n",
       "97     callate   640.000000   640.000000  Default  29.0000  29.0000\n",
       "216      perra   391.000000   391.000000  Default  28.0000  28.0000\n",
       "84       zorra   290.000000   290.000000  Default  27.0000  27.0000\n",
       "481      arabe   168.000000   168.000000  Default  26.0000  26.0000\n",
       "...        ...          ...          ...      ...      ...      ...\n",
       "3364  mientras    45.052652    49.408635   Topic2  -6.0983   0.7677\n",
       "228       aqui    53.361014    63.404457   Topic2  -5.9290   0.6875\n",
       "158       solo    51.823362   129.288611   Topic2  -5.9583  -0.0542\n",
       "515        dia    37.501413    68.568295   Topic2  -6.2817   0.2565\n",
       "150       hace    37.177279    84.215206   Topic2  -6.2904   0.0423\n",
       "\n",
       "[105 rows x 6 columns], token_table=      Topic      Freq       Term\n",
       "term                            \n",
       "21        1  0.006180      acoso\n",
       "21        2  0.995017      acoso\n",
       "228       1  0.157718       aqui\n",
       "228       2  0.835903       aqui\n",
       "481       1  0.005950      arabe\n",
       "...     ...       ...        ...\n",
       "169       2  0.009814       vida\n",
       "41        2  0.994928  violacion\n",
       "488       1  0.999501        voy\n",
       "488       2  0.013882        voy\n",
       "84        1  0.998259      zorra\n",
       "\n",
       "[101 rows x 3 columns], R=30, lambda_step=0.01, plot_opts={'xlab': 'PC1', 'ylab': 'PC2'}, topic_order=[2, 1])"
      ]
     },
     "execution_count": 177,
     "metadata": {},
     "output_type": "execute_result"
    }
   ],
   "source": [
    "pyLDAvis.enable_notebook()\n",
    "vis = pyLDAvis.gensim.prepare(lda_model, corpus, id2word)\n",
    "vis"
   ]
  },
  {
   "cell_type": "code",
   "execution_count": 178,
   "metadata": {},
   "outputs": [
    {
     "name": "stderr",
     "output_type": "stream",
     "text": [
      "/Users/laurasg/opt/anaconda3/lib/python3.8/site-packages/ipykernel/ipkernel.py:287: DeprecationWarning: `should_run_async` will not call `transform_cell` automatically in the future. Please pass the result to `transformed_cell` argument and any exception that happen during thetransform in `preprocessing_exc_tuple` in IPython 7.17 and above.\n",
      "  and should_run_async(code)\n"
     ]
    }
   ],
   "source": [
    "pyLDAvis.save_html(vis, 'lda.html')"
   ]
  },
  {
   "cell_type": "markdown",
   "metadata": {},
   "source": [
    "## Models"
   ]
  },
  {
   "cell_type": "markdown",
   "metadata": {},
   "source": [
    "## TFIDF - SVC"
   ]
  },
  {
   "cell_type": "markdown",
   "metadata": {},
   "source": [
    "## TFIDF"
   ]
  },
  {
   "cell_type": "code",
   "execution_count": 22,
   "metadata": {},
   "outputs": [],
   "source": [
    "tfidf = TfidfVectorizer(tokenizer = text_data_cleaning)"
   ]
  },
  {
   "cell_type": "code",
   "execution_count": 23,
   "metadata": {},
   "outputs": [],
   "source": [
    "X = df['text']\n",
    "y = df['HS']"
   ]
  },
  {
   "cell_type": "code",
   "execution_count": 24,
   "metadata": {},
   "outputs": [],
   "source": [
    "X = tfidf.fit_transform(X)"
   ]
  },
  {
   "cell_type": "code",
   "execution_count": 25,
   "metadata": {},
   "outputs": [
    {
     "data": {
      "text/plain": [
       "((3560, 18594), (890, 18594))"
      ]
     },
     "execution_count": 25,
     "metadata": {},
     "output_type": "execute_result"
    }
   ],
   "source": [
    "X_train, X_test, y_train, y_test = train_test_split(X, y, test_size = 0.2, random_state = 74, shuffle=True)\n",
    "X_train.shape, X_test.shape"
   ]
  },
  {
   "cell_type": "markdown",
   "metadata": {},
   "source": [
    "## SMOTE Oversampling"
   ]
  },
  {
   "cell_type": "code",
   "execution_count": 26,
   "metadata": {},
   "outputs": [],
   "source": [
    "oversample = SMOTE()"
   ]
  },
  {
   "cell_type": "code",
   "execution_count": 27,
   "metadata": {},
   "outputs": [],
   "source": [
    "res_X, res_y = oversample.fit_resample(X, y)"
   ]
  },
  {
   "cell_type": "code",
   "execution_count": 28,
   "metadata": {},
   "outputs": [
    {
     "data": {
      "text/plain": [
       "1    2617\n",
       "0    2617\n",
       "Name: HS, dtype: int64"
      ]
     },
     "execution_count": 28,
     "metadata": {},
     "output_type": "execute_result"
    }
   ],
   "source": [
    "res_y.value_counts()"
   ]
  },
  {
   "cell_type": "code",
   "execution_count": 29,
   "metadata": {},
   "outputs": [],
   "source": [
    "X_train, X_test, y_train, y_test= train_test_split(res_X,res_y, test_size=0.2, random_state= 74)"
   ]
  },
  {
   "cell_type": "markdown",
   "metadata": {},
   "source": [
    "## SVC Classifier"
   ]
  },
  {
   "cell_type": "code",
   "execution_count": 30,
   "metadata": {},
   "outputs": [],
   "source": [
    "classifier = LinearSVC()"
   ]
  },
  {
   "cell_type": "code",
   "execution_count": 31,
   "metadata": {},
   "outputs": [
    {
     "data": {
      "text/plain": [
       "LinearSVC()"
      ]
     },
     "execution_count": 31,
     "metadata": {},
     "output_type": "execute_result"
    }
   ],
   "source": [
    "classifier.fit(X_train, y_train)"
   ]
  },
  {
   "cell_type": "code",
   "execution_count": 32,
   "metadata": {},
   "outputs": [],
   "source": [
    "y_pred = classifier.predict(X_test)"
   ]
  },
  {
   "cell_type": "code",
   "execution_count": 33,
   "metadata": {},
   "outputs": [
    {
     "name": "stdout",
     "output_type": "stream",
     "text": [
      "              precision    recall  f1-score   support\n",
      "\n",
      "           0       0.86      0.84      0.85       530\n",
      "           1       0.84      0.86      0.85       517\n",
      "\n",
      "    accuracy                           0.85      1047\n",
      "   macro avg       0.85      0.85      0.85      1047\n",
      "weighted avg       0.85      0.85      0.85      1047\n",
      "\n"
     ]
    }
   ],
   "source": [
    "print(classification_report(y_test, y_pred))"
   ]
  },
  {
   "cell_type": "code",
   "execution_count": 34,
   "metadata": {},
   "outputs": [
    {
     "data": {
      "image/png": "[encoded data removed]",
      "text/plain": [
       "<Figure size 432x288 with 2 Axes>"
      ]
     },
     "metadata": {
      "needs_background": "light"
     },
     "output_type": "display_data"
    }
   ],
   "source": [
    "matrix = plot_confusion_matrix(classifier, X_test, y_test,\n",
    "                                 cmap=plt.cm.Blues,\n",
    "                                 normalize='true')\n",
    "plt.title('Confusion matrix for our classifier')\n",
    "plt.show(matrix)\n",
    "plt.show()"
   ]
  },
  {
   "cell_type": "markdown",
   "metadata": {},
   "source": [
    "## TFIDF - Naive Bayes"
   ]
  },
  {
   "cell_type": "markdown",
   "metadata": {},
   "source": [
    "## Bernoulli Naive Bayes"
   ]
  },
  {
   "cell_type": "code",
   "execution_count": 35,
   "metadata": {},
   "outputs": [],
   "source": [
    "classifier = BernoulliNB()"
   ]
  },
  {
   "cell_type": "code",
   "execution_count": 36,
   "metadata": {},
   "outputs": [
    {
     "data": {
      "text/plain": [
       "BernoulliNB()"
      ]
     },
     "execution_count": 36,
     "metadata": {},
     "output_type": "execute_result"
    }
   ],
   "source": [
    "classifier.fit(X_train, y_train)"
   ]
  },
  {
   "cell_type": "code",
   "execution_count": 37,
   "metadata": {},
   "outputs": [],
   "source": [
    "y_pred = classifier.predict(X_test)"
   ]
  },
  {
   "cell_type": "code",
   "execution_count": 38,
   "metadata": {},
   "outputs": [
    {
     "name": "stdout",
     "output_type": "stream",
     "text": [
      "              precision    recall  f1-score   support\n",
      "\n",
      "           0       0.82      0.85      0.83       530\n",
      "           1       0.84      0.81      0.82       517\n",
      "\n",
      "    accuracy                           0.83      1047\n",
      "   macro avg       0.83      0.83      0.83      1047\n",
      "weighted avg       0.83      0.83      0.83      1047\n",
      "\n"
     ]
    }
   ],
   "source": [
    "print(classification_report(y_test, y_pred))"
   ]
  },
  {
   "cell_type": "markdown",
   "metadata": {},
   "source": [
    "## TFIDF - Logistic Regression"
   ]
  },
  {
   "cell_type": "markdown",
   "metadata": {},
   "source": [
    "## Logistic Regression"
   ]
  },
  {
   "cell_type": "code",
   "execution_count": 39,
   "metadata": {},
   "outputs": [],
   "source": [
    "classifier = LogisticRegression()"
   ]
  },
  {
   "cell_type": "code",
   "execution_count": 40,
   "metadata": {},
   "outputs": [
    {
     "data": {
      "text/plain": [
       "LogisticRegression()"
      ]
     },
     "execution_count": 40,
     "metadata": {},
     "output_type": "execute_result"
    }
   ],
   "source": [
    "classifier.fit(X_train, y_train)"
   ]
  },
  {
   "cell_type": "code",
   "execution_count": 41,
   "metadata": {},
   "outputs": [],
   "source": [
    "y_pred = classifier.predict(X_test)"
   ]
  },
  {
   "cell_type": "code",
   "execution_count": 42,
   "metadata": {},
   "outputs": [
    {
     "name": "stdout",
     "output_type": "stream",
     "text": [
      "              precision    recall  f1-score   support\n",
      "\n",
      "           0       0.82      0.83      0.83       530\n",
      "           1       0.83      0.81      0.82       517\n",
      "\n",
      "    accuracy                           0.82      1047\n",
      "   macro avg       0.82      0.82      0.82      1047\n",
      "weighted avg       0.82      0.82      0.82      1047\n",
      "\n"
     ]
    }
   ],
   "source": [
    "print(classification_report(y_test, y_pred))"
   ]
  },
  {
   "cell_type": "markdown",
   "metadata": {},
   "source": [
    "## BOW - SVC"
   ]
  },
  {
   "cell_type": "markdown",
   "metadata": {},
   "source": [
    "## BOW"
   ]
  },
  {
   "cell_type": "code",
   "execution_count": 43,
   "metadata": {},
   "outputs": [],
   "source": [
    "bow_vector = CountVectorizer(tokenizer = text_data_cleaning, ngram_range=(1,1))"
   ]
  },
  {
   "cell_type": "code",
   "execution_count": 44,
   "metadata": {},
   "outputs": [],
   "source": [
    "X = df['text']\n",
    "y = df['HS']"
   ]
  },
  {
   "cell_type": "code",
   "execution_count": 45,
   "metadata": {},
   "outputs": [],
   "source": [
    "X = bow_vector.fit_transform(X)"
   ]
  },
  {
   "cell_type": "code",
   "execution_count": 46,
   "metadata": {},
   "outputs": [
    {
     "data": {
      "text/plain": [
       "((3560, 18594), (890, 18594))"
      ]
     },
     "execution_count": 46,
     "metadata": {},
     "output_type": "execute_result"
    }
   ],
   "source": [
    "X_train, X_test, y_train, y_test = train_test_split(X, y, test_size = 0.2, random_state = 74, shuffle=True)\n",
    "X_train.shape, X_test.shape"
   ]
  },
  {
   "cell_type": "markdown",
   "metadata": {},
   "source": [
    "## SMOTE"
   ]
  },
  {
   "cell_type": "code",
   "execution_count": 47,
   "metadata": {},
   "outputs": [],
   "source": [
    "oversample = SMOTE()"
   ]
  },
  {
   "cell_type": "code",
   "execution_count": 48,
   "metadata": {},
   "outputs": [],
   "source": [
    "res_X, res_y = oversample.fit_resample(X, y)"
   ]
  },
  {
   "cell_type": "code",
   "execution_count": 49,
   "metadata": {},
   "outputs": [],
   "source": [
    "X_train, X_test, y_train, y_test= train_test_split(res_X,res_y, test_size=0.2, random_state= 74)"
   ]
  },
  {
   "cell_type": "markdown",
   "metadata": {},
   "source": [
    "## SVC"
   ]
  },
  {
   "cell_type": "code",
   "execution_count": 50,
   "metadata": {},
   "outputs": [],
   "source": [
    "classifier = LinearSVC()"
   ]
  },
  {
   "cell_type": "code",
   "execution_count": 51,
   "metadata": {},
   "outputs": [
    {
     "data": {
      "text/plain": [
       "LinearSVC()"
      ]
     },
     "execution_count": 51,
     "metadata": {},
     "output_type": "execute_result"
    }
   ],
   "source": [
    "classifier.fit(X_train, y_train)"
   ]
  },
  {
   "cell_type": "code",
   "execution_count": 52,
   "metadata": {},
   "outputs": [],
   "source": [
    "y_pred = classifier.predict(X_test)"
   ]
  },
  {
   "cell_type": "code",
   "execution_count": 53,
   "metadata": {},
   "outputs": [
    {
     "name": "stdout",
     "output_type": "stream",
     "text": [
      "              precision    recall  f1-score   support\n",
      "\n",
      "           0       0.84      0.74      0.79       530\n",
      "           1       0.77      0.86      0.81       517\n",
      "\n",
      "    accuracy                           0.80      1047\n",
      "   macro avg       0.80      0.80      0.80      1047\n",
      "weighted avg       0.81      0.80      0.80      1047\n",
      "\n"
     ]
    }
   ],
   "source": [
    "print(classification_report(y_test, y_pred))"
   ]
  },
  {
   "cell_type": "markdown",
   "metadata": {},
   "source": [
    "## BOW - Naive Bayes"
   ]
  },
  {
   "cell_type": "markdown",
   "metadata": {},
   "source": [
    "## Bernoulli Naive Bayes"
   ]
  },
  {
   "cell_type": "code",
   "execution_count": 54,
   "metadata": {},
   "outputs": [],
   "source": [
    "classifier = BernoulliNB()"
   ]
  },
  {
   "cell_type": "code",
   "execution_count": 55,
   "metadata": {},
   "outputs": [
    {
     "data": {
      "text/plain": [
       "BernoulliNB()"
      ]
     },
     "execution_count": 55,
     "metadata": {},
     "output_type": "execute_result"
    }
   ],
   "source": [
    "classifier.fit(X_train, y_train)"
   ]
  },
  {
   "cell_type": "code",
   "execution_count": 56,
   "metadata": {},
   "outputs": [],
   "source": [
    "y_pred = classifier.predict(X_test)"
   ]
  },
  {
   "cell_type": "code",
   "execution_count": 57,
   "metadata": {},
   "outputs": [
    {
     "name": "stdout",
     "output_type": "stream",
     "text": [
      "              precision    recall  f1-score   support\n",
      "\n",
      "           0       0.87      0.58      0.69       530\n",
      "           1       0.68      0.91      0.78       517\n",
      "\n",
      "    accuracy                           0.74      1047\n",
      "   macro avg       0.77      0.74      0.73      1047\n",
      "weighted avg       0.77      0.74      0.73      1047\n",
      "\n"
     ]
    }
   ],
   "source": [
    "print(classification_report(y_test, y_pred))"
   ]
  },
  {
   "cell_type": "markdown",
   "metadata": {},
   "source": [
    "## BOW - Logistic Regression "
   ]
  },
  {
   "cell_type": "markdown",
   "metadata": {},
   "source": [
    "## Logistic Regression"
   ]
  },
  {
   "cell_type": "code",
   "execution_count": 58,
   "metadata": {},
   "outputs": [],
   "source": [
    "classifier = LogisticRegression()"
   ]
  },
  {
   "cell_type": "code",
   "execution_count": 59,
   "metadata": {},
   "outputs": [
    {
     "name": "stderr",
     "output_type": "stream",
     "text": [
      "/Users/laurasg/opt/anaconda3/lib/python3.8/site-packages/sklearn/linear_model/_logistic.py:762: ConvergenceWarning: lbfgs failed to converge (status=1):\n",
      "STOP: TOTAL NO. of ITERATIONS REACHED LIMIT.\n",
      "\n",
      "Increase the number of iterations (max_iter) or scale the data as shown in:\n",
      "    https://scikit-learn.org/stable/modules/preprocessing.html\n",
      "Please also refer to the documentation for alternative solver options:\n",
      "    https://scikit-learn.org/stable/modules/linear_model.html#logistic-regression\n",
      "  n_iter_i = _check_optimize_result(\n"
     ]
    },
    {
     "data": {
      "text/plain": [
       "LogisticRegression()"
      ]
     },
     "execution_count": 59,
     "metadata": {},
     "output_type": "execute_result"
    }
   ],
   "source": [
    "classifier.fit(X_train, y_train)"
   ]
  },
  {
   "cell_type": "code",
   "execution_count": 60,
   "metadata": {},
   "outputs": [],
   "source": [
    "y_pred = classifier.predict(X_test)"
   ]
  },
  {
   "cell_type": "code",
   "execution_count": 61,
   "metadata": {},
   "outputs": [
    {
     "name": "stdout",
     "output_type": "stream",
     "text": [
      "              precision    recall  f1-score   support\n",
      "\n",
      "           0       0.84      0.76      0.80       530\n",
      "           1       0.78      0.85      0.81       517\n",
      "\n",
      "    accuracy                           0.81      1047\n",
      "   macro avg       0.81      0.81      0.81      1047\n",
      "weighted avg       0.81      0.81      0.81      1047\n",
      "\n"
     ]
    }
   ],
   "source": [
    "print(classification_report(y_test, y_pred))"
   ]
  },
  {
   "cell_type": "markdown",
   "metadata": {},
   "source": [
    "## BIGRAM VECTOR - SVC"
   ]
  },
  {
   "cell_type": "code",
   "execution_count": 62,
   "metadata": {},
   "outputs": [],
   "source": [
    "bigram_vector = CountVectorizer(tokenizer = text_data_cleaning, ngram_range=(2,2))"
   ]
  },
  {
   "cell_type": "code",
   "execution_count": 63,
   "metadata": {},
   "outputs": [],
   "source": [
    "X = df['text']\n",
    "y = df['HS']"
   ]
  },
  {
   "cell_type": "code",
   "execution_count": 64,
   "metadata": {},
   "outputs": [],
   "source": [
    "X = bigram_vector.fit_transform(X)"
   ]
  },
  {
   "cell_type": "code",
   "execution_count": 65,
   "metadata": {},
   "outputs": [
    {
     "data": {
      "text/plain": [
       "((3560, 49170), (890, 49170))"
      ]
     },
     "execution_count": 65,
     "metadata": {},
     "output_type": "execute_result"
    }
   ],
   "source": [
    "X_train, X_test, y_train, y_test = train_test_split(X, y, test_size = 0.2, random_state = 74, shuffle=True)\n",
    "X_train.shape, X_test.shape"
   ]
  },
  {
   "cell_type": "code",
   "execution_count": 66,
   "metadata": {},
   "outputs": [],
   "source": [
    "oversample = SMOTE()"
   ]
  },
  {
   "cell_type": "code",
   "execution_count": 67,
   "metadata": {},
   "outputs": [],
   "source": [
    "res_X, res_y = oversample.fit_resample(X, y)"
   ]
  },
  {
   "cell_type": "code",
   "execution_count": 68,
   "metadata": {},
   "outputs": [],
   "source": [
    "X_train, X_test, y_train, y_test= train_test_split(res_X,res_y, test_size=0.2, random_state= 74)"
   ]
  },
  {
   "cell_type": "code",
   "execution_count": 69,
   "metadata": {},
   "outputs": [],
   "source": [
    "classifier = LinearSVC()"
   ]
  },
  {
   "cell_type": "code",
   "execution_count": 70,
   "metadata": {},
   "outputs": [
    {
     "data": {
      "text/plain": [
       "LinearSVC()"
      ]
     },
     "execution_count": 70,
     "metadata": {},
     "output_type": "execute_result"
    }
   ],
   "source": [
    "classifier.fit(X_train, y_train)"
   ]
  },
  {
   "cell_type": "code",
   "execution_count": 71,
   "metadata": {},
   "outputs": [],
   "source": [
    "y_pred = classifier.predict(X_test)"
   ]
  },
  {
   "cell_type": "code",
   "execution_count": 72,
   "metadata": {},
   "outputs": [
    {
     "name": "stdout",
     "output_type": "stream",
     "text": [
      "              precision    recall  f1-score   support\n",
      "\n",
      "           0       0.89      0.35      0.50       530\n",
      "           1       0.59      0.95      0.73       517\n",
      "\n",
      "    accuracy                           0.65      1047\n",
      "   macro avg       0.74      0.65      0.62      1047\n",
      "weighted avg       0.74      0.65      0.61      1047\n",
      "\n"
     ]
    }
   ],
   "source": [
    "print(classification_report(y_test, y_pred))"
   ]
  }
 ],
 "metadata": {
  "kernelspec": {
   "display_name": "Python 3",
   "language": "python",
   "name": "python3"
  },
  "language_info": {
   "codemirror_mode": {
    "name": "ipython",
    "version": 3
   },
   "file_extension": ".py",
   "mimetype": "text/x-python",
   "name": "python",
   "nbconvert_exporter": "python",
   "pygments_lexer": "ipython3",
   "version": "3.8.5"
  },
  "toc": {
   "base_numbering": 1,
   "nav_menu": {},
   "number_sections": false,
   "sideBar": true,
   "skip_h1_title": false,
   "title_cell": "Table of Contents",
   "title_sidebar": "Contents",
   "toc_cell": false,
   "toc_position": {},
   "toc_section_display": true,
   "toc_window_display": false
  },
  "varInspector": {
   "cols": {
    "lenName": 16,
    "lenType": 16,
    "lenVar": 40
   },
   "kernels_config": {
    "python": {
     "delete_cmd_postfix": "",
     "delete_cmd_prefix": "del ",
     "library": "var_list.py",
     "varRefreshCmd": "print(var_dic_list())"
    },
    "r": {
     "delete_cmd_postfix": ") ",
     "delete_cmd_prefix": "rm(",
     "library": "var_list.r",
     "varRefreshCmd": "cat(var_dic_list()) "
    }
   },
   "types_to_exclude": [
    "module",
    "function",
    "builtin_function_or_method",
    "instance",
    "_Feature"
   ],
   "window_display": false
  }
 },
 "nbformat": 4,
 "nbformat_minor": 4
}
